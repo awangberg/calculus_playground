{
  "nbformat": 4,
  "nbformat_minor": 0,
  "metadata": {
    "colab": {
      "name": "t1: Model P and dP/dt",
      "provenance": [],
      "authorship_tag": "ABX9TyMu0dw119/8DzSlKVoHAaNP",
      "include_colab_link": true
    },
    "kernelspec": {
      "name": "python3",
      "display_name": "Python 3"
    },
    "language_info": {
      "name": "python"
    }
  },
  "cells": [
    {
      "cell_type": "markdown",
      "metadata": {
        "id": "view-in-github",
        "colab_type": "text"
      },
      "source": [
        "<a href=\"https://colab.research.google.com/github/awangberg/calculus_playground/blob/main/t1_Model_P_and_dP_dt.ipynb\" target=\"_parent\"><img src=\"https://colab.research.google.com/assets/colab-badge.svg\" alt=\"Open In Colab\"/></a>"
      ]
    },
    {
      "cell_type": "markdown",
      "metadata": {
        "id": "jVXZ4oDPjY20"
      },
      "source": [
        "# Explore the Production data in the table below\n",
        "\n",
        "The production (in tons) of apples is given in the table below.\n",
        "\n",
        "Describe the quantities (with units!) for the quantities:\n",
        "   * P  :  tons\n",
        "   * t  :  _____\n",
        "   * dP :  _____\n",
        "   * dt :  _____\n",
        "   * dP/dt : _____\n",
        "\n",
        "\n",
        "What is the maximum amount of apples produced during the 4 years?\n",
        "\n",
        "What is the minimum amount of apples produced during the 4 years?\n",
        "\n"
      ]
    },
    {
      "cell_type": "markdown",
      "metadata": {
        "id": "k8ffkZX3kr2R"
      },
      "source": [
        "# Model the Production Data\n",
        "\n",
        "What type of functions would be appropriate to model the production data?  Provide a one-sentence justification for choosing appropriate models, or for dismissing the models.\n",
        "\n",
        "\n",
        "linear functions:\n",
        "\n",
        "quadratic functions:\n",
        "\n",
        "exponential functions:\n",
        "\n",
        "logarithmic functions:\n",
        "\n",
        "sine functions:\n",
        "\n",
        "cosine functions:\n",
        "\n",
        "quotient functions:\n",
        "\n"
      ]
    },
    {
      "cell_type": "code",
      "metadata": {
        "colab": {
          "base_uri": "https://localhost:8080/",
          "height": 696
        },
        "id": "IgWpD6JTjVCN",
        "outputId": "2c283059-fae5-439c-a85f-db9721098837"
      },
      "source": [
        "from IPython.display import IFrame\n",
        "IFrame(src=\"https://www.desmos.com/calculator/x1i2bhtkmj\", width=1500, height=675)"
      ],
      "execution_count": 2,
      "outputs": [
        {
          "output_type": "execute_result",
          "data": {
            "text/html": [
              "\n",
              "        <iframe\n",
              "            width=\"1500\"\n",
              "            height=\"675\"\n",
              "            src=\"https://www.desmos.com/calculator/x1i2bhtkmj\"\n",
              "            frameborder=\"0\"\n",
              "            allowfullscreen\n",
              "        ></iframe>\n",
              "        "
            ],
            "text/plain": [
              "<IPython.lib.display.IFrame at 0x7faff819e390>"
            ]
          },
          "metadata": {
            "tags": []
          },
          "execution_count": 2
        }
      ]
    },
    {
      "cell_type": "markdown",
      "metadata": {
        "id": "04jbqX3llRsb"
      },
      "source": [
        "#  Using Desmos, find the best fit function for the production data.\n",
        "\n",
        "# Enter your result here:"
      ]
    },
    {
      "cell_type": "markdown",
      "metadata": {
        "id": "fbGRt-iMl_Tm"
      },
      "source": [
        "What type of functions would be appropriate to model how the rate of change of the production data,  $dP/dt$? Provide a one-sentence justification for choosing appropriate models, or for dismissing the models.\n",
        "\n",
        "linear functions:\n",
        "\n",
        "quadratic functions:\n",
        "\n",
        "exponential functions:\n",
        "\n",
        "logarithmic functions:\n",
        "\n",
        "sine functions:\n",
        "\n",
        "cosine functions:\n",
        "\n",
        "quotient functions:\n",
        "\n"
      ]
    },
    {
      "cell_type": "markdown",
      "metadata": {
        "id": "wxhfODumlgcx"
      },
      "source": [
        "# Add a column to the table in Desmos for the change in the production data,  $\\frac{dP}{dt}$.  [ Enter it in Desmos as: d_P / d_t ]\n",
        "\n",
        "# Find the best fit function for $\\frac{dP}{dt}$.\n",
        "\n",
        "# Enter your result here:\n",
        "\n",
        "$\\frac{dP}{dt} = ... $"
      ]
    },
    {
      "cell_type": "markdown",
      "metadata": {
        "id": "INxMv4a7mdWk"
      },
      "source": [
        "Note:  The table was generated from a Google Sheets worksheet, and just pasted into the Desmos activity."
      ]
    },
    {
      "cell_type": "code",
      "metadata": {
        "id": "9qyDkW7Gjpin"
      },
      "source": [
        ""
      ],
      "execution_count": null,
      "outputs": []
    }
  ]
}