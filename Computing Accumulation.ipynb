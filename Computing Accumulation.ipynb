{
  "nbformat": 4,
  "nbformat_minor": 0,
  "metadata": {
    "colab": {
      "name": "Desmos and Spreadsheet.ipynb",
      "provenance": [],
      "authorship_tag": "ABX9TyNxUO1BdnFOIM6ros4IWjXz",
      "include_colab_link": true
    },
    "kernelspec": {
      "name": "python3",
      "display_name": "Python 3"
    },
    "language_info": {
      "name": "python"
    }
  },
  "cells": [
    {
      "cell_type": "markdown",
      "metadata": {
        "id": "view-in-github",
        "colab_type": "text"
      },
      "source": [
        "<a href=\"https://colab.research.google.com/github/awangberg/calculus_playground/blob/main/Computing%20Accumulation.ipynb\" target=\"_parent\"><img src=\"https://colab.research.google.com/assets/colab-badge.svg\" alt=\"Open In Colab\"/></a>"
      ]
    },
    {
      "cell_type": "markdown",
      "metadata": {
        "id": "qQcuOUtvYdma"
      },
      "source": [
        "# Generate Data (Spreadsheet); Analyze Data (Desmos)\n",
        "\n",
        "Data is generated in the spreadsheet, and the tabular data can be copied and pasted into a Desmos cell.  This enables students to use Desmos to analyze the data they generate within the spreadsheet."
      ]
    },
    {
      "cell_type": "markdown",
      "metadata": {
        "id": "DVeRfuIXZGgu"
      },
      "source": [
        "# Spreadsheet Data\n",
        "\n",
        "Generate data within the following spreadsheet.  Get stuff we like:"
      ]
    },
    {
      "cell_type": "code",
      "metadata": {
        "colab": {
          "base_uri": "https://localhost:8080/",
          "height": 396
        },
        "id": "bVnNOc5SZDa7",
        "outputId": "6b9dcdef-49b9-475f-a1c1-55a25582948f"
      },
      "source": [
        "from IPython.display import IFrame\n",
        "IFrame(src=\"https://docs.google.com/spreadsheets/d/1KJhCJxpI9LxbX_pOMVGhD3X1deoWP_GBq9UsKyIinR0/edit?usp=sharing\", width=800, height=375)"
      ],
      "execution_count": null,
      "outputs": [
        {
          "output_type": "execute_result",
          "data": {
            "text/html": [
              "\n",
              "        <iframe\n",
              "            width=\"800\"\n",
              "            height=\"375\"\n",
              "            src=\"https://docs.google.com/spreadsheets/d/1KJhCJxpI9LxbX_pOMVGhD3X1deoWP_GBq9UsKyIinR0/edit?usp=sharing\"\n",
              "            frameborder=\"0\"\n",
              "            allowfullscreen\n",
              "        ></iframe>\n",
              "        "
            ],
            "text/plain": [
              "<IPython.lib.display.IFrame at 0x7f0117f19150>"
            ]
          },
          "metadata": {},
          "execution_count": 3
        }
      ]
    },
    {
      "cell_type": "code",
      "metadata": {
        "colab": {
          "base_uri": "https://localhost:8080/",
          "height": 596
        },
        "id": "olAAeWDYYXan",
        "outputId": "86e336ea-521a-4b62-f4dc-cc66e3d4ae1e"
      },
      "source": [
        "from IPython.display import IFrame\n",
        "IFrame(src=\"https://www.desmos.com/calculator/okwcvuzvou\", width=1200, height=575)"
      ],
      "execution_count": null,
      "outputs": [
        {
          "output_type": "execute_result",
          "data": {
            "text/html": [
              "\n",
              "        <iframe\n",
              "            width=\"1200\"\n",
              "            height=\"575\"\n",
              "            src=\"https://www.desmos.com/calculator/okwcvuzvou\"\n",
              "            frameborder=\"0\"\n",
              "            allowfullscreen\n",
              "        ></iframe>\n",
              "        "
            ],
            "text/plain": [
              "<IPython.lib.display.IFrame at 0x7f55aa3c41d0>"
            ]
          },
          "metadata": {},
          "execution_count": 4
        }
      ]
    },
    {
      "cell_type": "code",
      "metadata": {
        "id": "oDunBWzaZAvS"
      },
      "source": [
        ""
      ],
      "execution_count": null,
      "outputs": []
    }
  ]
}