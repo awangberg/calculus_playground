{
  "nbformat": 4,
  "nbformat_minor": 0,
  "metadata": {
    "colab": {
      "name": "t1: Model P and dP/dt",
      "provenance": [],
      "authorship_tag": "ABX9TyMvCiGfC2ZmhxzJaPasVAy5",
      "include_colab_link": true
    },
    "kernelspec": {
      "name": "python3",
      "display_name": "Python 3"
    },
    "language_info": {
      "name": "python"
    }
  },
  "cells": [
    {
      "cell_type": "markdown",
      "metadata": {
        "id": "view-in-github",
        "colab_type": "text"
      },
      "source": [
        "<a href=\"https://colab.research.google.com/github/awangberg/calculus_playground/blob/main/t1_Model_P_and_dP_dt.ipynb\" target=\"_parent\"><img src=\"https://colab.research.google.com/assets/colab-badge.svg\" alt=\"Open In Colab\"/></a>"
      ]
    },
    {
      "cell_type": "code",
      "metadata": {
        "colab": {
          "base_uri": "https://localhost:8080/",
          "height": 696
        },
        "id": "IgWpD6JTjVCN",
        "outputId": "049e090f-2e0b-49d4-d203-d7b4564d843d"
      },
      "source": [
        "from IPython.display import IFrame\n",
        "IFrame(src=\"https://www.desmos.com/calculator/vu2oojhtvx\", width=1500, height=675)"
      ],
      "execution_count": 3,
      "outputs": [
        {
          "output_type": "execute_result",
          "data": {
            "text/html": [
              "\n",
              "        <iframe\n",
              "            width=\"1500\"\n",
              "            height=\"675\"\n",
              "            src=\"https://www.desmos.com/calculator/vu2oojhtvx\"\n",
              "            frameborder=\"0\"\n",
              "            allowfullscreen\n",
              "        ></iframe>\n",
              "        "
            ],
            "text/plain": [
              "<IPython.lib.display.IFrame at 0x7faff81b9a10>"
            ]
          },
          "metadata": {
            "tags": []
          },
          "execution_count": 3
        }
      ]
    },
    {
      "cell_type": "markdown",
      "metadata": {
        "id": "jVXZ4oDPjY20"
      },
      "source": [
        "# The production (in tons) of apples is given in the table above.\n",
        "\n",
        "\n"
      ]
    },
    {
      "cell_type": "markdown",
      "metadata": {
        "id": "UCZjqlqlrOQo"
      },
      "source": [
        "## Units:  Describe the quantities (with units!) for the quantities:\n",
        "\n",
        "   * P  :  tons\n",
        "   * t  :  _____\n",
        "   * dP :  _____\n",
        "   * dt :  _____\n",
        "   * dP/dt : _____"
      ]
    },
    {
      "cell_type": "markdown",
      "metadata": {
        "id": "DDqVQT9YodrO"
      },
      "source": [
        "##  Behavior of P  [ include units! ]\n",
        "\n",
        "*  What is the maximum amount of apples produced during the 4 years?\n",
        "\n",
        "*  What is the minimum amount of apples produced during the 4 years?\n",
        "\n",
        "*  How long does it take the production to repeat itself?"
      ]
    },
    {
      "cell_type": "markdown",
      "metadata": {
        "id": "OIf-D8LAor5q"
      },
      "source": [
        "## Behavior of $\\frac{dP}{dt}$  [ include units! ]\n",
        "\n",
        "Add a column to the table in Desmos showing $\\frac{dP}{dt}$.  [ Enter \"d_P / d_t \" ]\n",
        "\n",
        "* What is the maximum value of $\\frac{dP}{dt}$ during the 4 years?\n",
        "\n",
        "* What is the minimum value of $\\frac{dP}{dt}$ during the 4 years?\n",
        "\n",
        "* How long does it take $\\frac{dP}{dt}$ to repeat itself?"
      ]
    },
    {
      "cell_type": "markdown",
      "metadata": {
        "id": "k8ffkZX3kr2R"
      },
      "source": [
        "# Selecting Models \n",
        "\n"
      ]
    },
    {
      "cell_type": "markdown",
      "metadata": {
        "id": "bC8xookVqypu"
      },
      "source": [
        "## Production Model\n",
        "\n",
        "What type of functions would be appropriate to model the production data?  Provide a one-sentence justification for choosing appropriate models, or for dismissing the models.\n",
        "\n",
        "* linear functions:\n",
        "\n",
        "* quadratic functions:\n",
        "\n",
        "* exponential functions:\n",
        "\n",
        "* logarithmic functions:\n",
        "\n",
        "* sine functions:\n",
        "\n",
        "* cosine functions:\n",
        "\n",
        "* quotient of two functions:\n",
        "\n",
        "#  Model of how Production changes, $\\frac{dP}{dt}$\n",
        "\n",
        "What type of functions would be appropriate to model how the rate of change of the production data,  $dP/dt$? Provide a one-sentence justification for choosing appropriate models, or for dismissing the models.\n",
        "\n",
        "* linear functions:\n",
        "\n",
        "* quadratic functions:\n",
        "\n",
        "* exponential functions:\n",
        "\n",
        "* logarithmic functions:\n",
        "\n",
        "* sine functions:\n",
        "\n",
        "* cosine functions:\n",
        "\n",
        "* quotient of two functions:\n",
        "\n",
        "\n",
        "\n"
      ]
    },
    {
      "cell_type": "markdown",
      "metadata": {
        "id": "04jbqX3llRsb"
      },
      "source": [
        "#  Using Desmos, find the best fit function for:\n",
        "\n",
        "  *  The production data $P$:\n",
        "\n",
        "    $P = $ [ Enter your answer here ]\n",
        "\n",
        "  *  The data for $\\frac{dP}{dt}$:\n",
        "  \n",
        "    $\\frac{dP}{dt} = $ [ Enter your answer here ]\n"
      ]
    },
    {
      "cell_type": "markdown",
      "metadata": {
        "id": "CQIMw7URnaL8"
      },
      "source": [
        "#  End of the worksheet....\n"
      ]
    },
    {
      "cell_type": "markdown",
      "metadata": {
        "id": "INxMv4a7mdWk"
      },
      "source": [
        "Note:  The table was generated from a Google Sheets worksheet, and just pasted into the Desmos activity.\n",
        "\n",
        "https://docs.google.com/spreadsheets/d/1HJIghAaJNqG6zc912Plrc_R6muKavRPhOWuMpR49sfg/edit?usp=sharing"
      ]
    },
    {
      "cell_type": "code",
      "metadata": {
        "id": "9qyDkW7Gjpin"
      },
      "source": [
        ""
      ],
      "execution_count": null,
      "outputs": []
    }
  ]
}