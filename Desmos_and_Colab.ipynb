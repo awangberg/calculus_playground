{
  "nbformat": 4,
  "nbformat_minor": 0,
  "metadata": {
    "colab": {
      "name": "Desmos and Colab.ipynb",
      "provenance": [],
      "authorship_tag": "ABX9TyNy3mmU++8hiVjS+RARxYDL",
      "include_colab_link": true
    },
    "kernelspec": {
      "name": "python3",
      "display_name": "Python 3"
    },
    "language_info": {
      "name": "python"
    }
  },
  "cells": [
    {
      "cell_type": "markdown",
      "metadata": {
        "id": "view-in-github",
        "colab_type": "text"
      },
      "source": [
        "<a href=\"https://colab.research.google.com/github/awangberg/calculus_playground/blob/main/Desmos_and_Colab.ipynb\" target=\"_parent\"><img src=\"https://colab.research.google.com/assets/colab-badge.svg\" alt=\"Open In Colab\"/></a>"
      ]
    },
    {
      "cell_type": "markdown",
      "metadata": {
        "id": "PKnVymVY9ZSI"
      },
      "source": [
        "# Example of importing existing Desmos page into Colab:\n",
        "\n",
        "\n",
        "\n",
        "```\n",
        "# Code to bring in a Desmos page into an iframe\n",
        "from IPython.display import IFrame\n",
        "IFrame(src=\"DESMOS LINK HERE\", width=700, height=375)\n",
        "```\n"
      ]
    },
    {
      "cell_type": "code",
      "metadata": {
        "id": "PW_ojXsH9XvG"
      },
      "source": [
        ""
      ],
      "execution_count": null,
      "outputs": []
    },
    {
      "cell_type": "code",
      "metadata": {
        "colab": {
          "base_uri": "https://localhost:8080/",
          "height": 596
        },
        "id": "Oz0RjRHO9Ly_",
        "outputId": "eec6918f-05f2-454d-9e97-cdf5c046f215"
      },
      "source": [
        "from IPython.display import IFrame\n",
        "IFrame(src=\"https://www.desmos.com/calculator/3z6lxg1nt3\", width=1200, height=575)"
      ],
      "execution_count": 3,
      "outputs": [
        {
          "output_type": "execute_result",
          "data": {
            "text/html": [
              "\n",
              "        <iframe\n",
              "            width=\"1200\"\n",
              "            height=\"575\"\n",
              "            src=\"https://www.desmos.com/calculator/3z6lxg1nt3\"\n",
              "            frameborder=\"0\"\n",
              "            allowfullscreen\n",
              "        ></iframe>\n",
              "        "
            ],
            "text/plain": [
              "<IPython.lib.display.IFrame at 0x7f67514cec90>"
            ]
          },
          "metadata": {
            "tags": []
          },
          "execution_count": 3
        }
      ]
    },
    {
      "cell_type": "code",
      "metadata": {
        "id": "C4tyS2Wp_SwZ"
      },
      "source": [
        ""
      ],
      "execution_count": null,
      "outputs": []
    }
  ]
}